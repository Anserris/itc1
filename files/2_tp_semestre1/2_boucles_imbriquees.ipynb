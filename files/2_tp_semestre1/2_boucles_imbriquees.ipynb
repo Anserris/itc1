{
 "cells": [
  {
   "cell_type": "markdown",
   "id": "dbf7c15e-78bc-4d3c-acd6-6af83ef6fa08",
   "metadata": {},
   "source": [
    "Avec ce programme: (for i in range(4): for j in range(i, 3): print(i, j)) nous allons obtenir: 00-01-02-11-12-22"
   ]
  },
  {
   "cell_type": "code",
   "execution_count": 2,
   "id": "f883c4eb-d557-49fd-b4f1-b6f583a62390",
   "metadata": {},
   "outputs": [
    {
     "name": "stdout",
     "output_type": "stream",
     "text": [
      "0 0\n",
      "0 1\n",
      "0 2\n",
      "1 1\n",
      "1 2\n",
      "2 2\n"
     ]
    }
   ],
   "source": [
    "for i in range(4):\n",
    "    for j in range(i, 3):\n",
    "        print(i, j)"
   ]
  },
  {
   "cell_type": "code",
   "execution_count": 3,
   "id": "7094d0ef-f05e-4e5a-83a0-6fb0aa1e1e3b",
   "metadata": {},
   "outputs": [],
   "source": [
    "def possede_a_true_or_false(a,s):\n",
    "    for e in s:\n",
    "        if e==a:\n",
    "            return True\n",
    "    return False"
   ]
  },
  {
   "cell_type": "code",
   "execution_count": 4,
   "id": "b267fb19-e48d-4bf4-9ca6-f09d4675c3a7",
   "metadata": {},
   "outputs": [
    {
     "data": {
      "text/plain": [
       "False"
      ]
     },
     "execution_count": 4,
     "metadata": {},
     "output_type": "execute_result"
    }
   ],
   "source": [
    "possede_a_true_or_false(\"b\",\"cehfkdhcnoin\")"
   ]
  },
  {
   "cell_type": "code",
   "execution_count": 5,
   "id": "3e8d2639-b186-48e2-94ea-f9f1cda2e09b",
   "metadata": {},
   "outputs": [],
   "source": [
    "def facteur_i(s,m,i):\n",
    "    b=i\n",
    "    for y in range (len(m)-1):\n",
    "        if s[b]!=m[y]:\n",
    "            return False\n",
    "        i+=1\n",
    "    return True"
   ]
  },
  {
   "cell_type": "code",
   "execution_count": 6,
   "id": "4b1dacd6-2522-443d-9215-381d4bc01c92",
   "metadata": {},
   "outputs": [
    {
     "data": {
      "text/plain": [
       "True"
      ]
     },
     "execution_count": 6,
     "metadata": {},
     "output_type": "execute_result"
    }
   ],
   "source": [
    "facteur_i(\"Algorithme\", \"go\", 2)"
   ]
  },
  {
   "cell_type": "code",
   "execution_count": 21,
   "id": "2185df79-0e23-4607-966c-cea820713c02",
   "metadata": {},
   "outputs": [],
   "source": [
    "def facteur(m,s):\n",
    "    a=0\n",
    "    while a!=(len(s)):\n",
    "        if facteur_i(s,m,a)==True:\n",
    "            return True\n",
    "        a+=1\n",
    "    return False"
   ]
  },
  {
   "cell_type": "code",
   "execution_count": 22,
   "id": "c98d2ce2-09f2-4406-8725-a26ef32c2f66",
   "metadata": {},
   "outputs": [
    {
     "data": {
      "text/plain": [
       "True"
      ]
     },
     "execution_count": 22,
     "metadata": {},
     "output_type": "execute_result"
    }
   ],
   "source": [
    "facteur(\"go\", \"Algorithme\")"
   ]
  },
  {
   "cell_type": "code",
   "execution_count": 23,
   "id": "52ba11c4-d62a-4def-8913-ef1d8aa88c8e",
   "metadata": {},
   "outputs": [],
   "source": [
    "def plus_proches(L):\n",
    "    m = abs(L[1] - L[0]) # m contient la distance minimum entre 2 valeurs de L\n",
    "    res = (L[0], L[1]) # les deux valeurs les plus proches\n",
    "    for i in range(len(L)):\n",
    "        for j in range(i, len(L)): # on veut i différent de j\n",
    "            # si la distance de L[i] à L[j] est plus petite que m, mettre à jour m et res\n",
    "            if abs(L[i]-L[j])<m:\n",
    "                m=abs(L[i]-L[j])\n",
    "                res=(L[i],L[j])\n",
    "    return res"
   ]
  },
  {
   "cell_type": "code",
   "execution_count": 24,
   "id": "dbbedda0-0a9a-4fda-87e4-bbde731320b3",
   "metadata": {},
   "outputs": [],
   "source": [
    "def tri_bulle(l,n):\n",
    "    for i in range (n-1):\n",
    "        for j in range ((i+1)(n-1)):\n",
    "            if l[i]>L[j]:\n",
    "                l[i],l[j]=l[j],l[i]\n",
    "    return l"
   ]
  },
  {
   "cell_type": "code",
   "execution_count": null,
   "id": "09596673-2c1f-4642-b8e5-a3b810b25975",
   "metadata": {},
   "outputs": [],
   "source": []
  }
 ],
 "metadata": {
  "kernelspec": {
   "display_name": "Python 3 (ipykernel)",
   "language": "python",
   "name": "python3"
  },
  "language_info": {
   "codemirror_mode": {
    "name": "ipython",
    "version": 3
   },
   "file_extension": ".py",
   "mimetype": "text/x-python",
   "name": "python",
   "nbconvert_exporter": "python",
   "pygments_lexer": "ipython3",
   "version": "3.7.10"
  }
 },
 "nbformat": 4,
 "nbformat_minor": 5
}
