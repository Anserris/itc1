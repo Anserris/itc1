{
 "cells": [
  {
   "cell_type": "code",
   "execution_count": 1,
   "id": "61cc7520-5128-4aa7-a676-0e3253d8764c",
   "metadata": {},
   "outputs": [],
   "source": [
    "def appartient(e,L):\n",
    "    for i in range (len(L)):\n",
    "        if L[i]==e:\n",
    "            return True\n",
    "        return False"
   ]
  },
  {
   "cell_type": "code",
   "execution_count": 2,
   "id": "e9a40657-f812-4de0-943e-b080804b294b",
   "metadata": {},
   "outputs": [],
   "source": [
    "def maximum(L):\n",
    "    maxi=L[0]\n",
    "    for i in range (len(L)):\n",
    "        if L[i]>maxi:\n",
    "            maxi=L[i]\n",
    "    return maxi"
   ]
  },
  {
   "cell_type": "code",
   "execution_count": 3,
   "id": "9975698d-51f2-4092-b3ef-477308aa1145",
   "metadata": {},
   "outputs": [
    {
     "data": {
      "text/plain": [
       "5"
      ]
     },
     "execution_count": 3,
     "metadata": {},
     "output_type": "execute_result"
    }
   ],
   "source": [
    "maximum([1,2,3,4,5])"
   ]
  },
  {
   "cell_type": "code",
   "execution_count": 4,
   "id": "b7d163d8-b9be-4a4d-9ff6-0d1380da0973",
   "metadata": {},
   "outputs": [],
   "source": [
    "def max2(L):\n",
    "    maxi=L[0]\n",
    "    maxibis=L[0]\n",
    "    for i in range (len(L)):\n",
    "        if L[i]>maxi:\n",
    "            maxibis=maxi\n",
    "            maxi=L[i]\n",
    "    return maxibis"
   ]
  },
  {
   "cell_type": "code",
   "execution_count": 5,
   "id": "e075a764-13ec-40b3-989e-7af4f3d48273",
   "metadata": {},
   "outputs": [
    {
     "data": {
      "text/plain": [
       "2"
      ]
     },
     "execution_count": 5,
     "metadata": {},
     "output_type": "execute_result"
    }
   ],
   "source": [
    "max2([2, 1,0, 5])"
   ]
  },
  {
   "cell_type": "code",
   "execution_count": 6,
   "id": "2c3580d7-8949-47c3-b824-c4f09801f041",
   "metadata": {},
   "outputs": [],
   "source": [
    "dico={42:5,23:13}"
   ]
  },
  {
   "cell_type": "code",
   "execution_count": 7,
   "id": "b642487b-26c1-4982-ba13-48300652a5e7",
   "metadata": {},
   "outputs": [
    {
     "data": {
      "text/plain": [
       "5"
      ]
     },
     "execution_count": 7,
     "metadata": {},
     "output_type": "execute_result"
    }
   ],
   "source": [
    "dico[42]"
   ]
  },
  {
   "cell_type": "code",
   "execution_count": 8,
   "id": "9398d41a-d051-4888-a4c7-17f7aecf9c68",
   "metadata": {},
   "outputs": [],
   "source": [
    "d={\"hello\":5,\"python\":6}"
   ]
  },
  {
   "cell_type": "code",
   "execution_count": 9,
   "id": "d79563f3-c629-4ef8-884e-b23f1a3a4cc3",
   "metadata": {},
   "outputs": [
    {
     "data": {
      "text/plain": [
       "5"
      ]
     },
     "execution_count": 9,
     "metadata": {},
     "output_type": "execute_result"
    }
   ],
   "source": [
    "d[\"hello\"]"
   ]
  },
  {
   "cell_type": "code",
   "execution_count": 10,
   "id": "4bc34408-1615-4716-a538-1621698b2c35",
   "metadata": {},
   "outputs": [],
   "source": [
    "def compter(l):\n",
    "    d={}\n",
    "    for e in l:\n",
    "        if e not in d:\n",
    "            d[e]=1\n",
    "        else:\n",
    "            d[e]+=1\n",
    "    return d"
   ]
  },
  {
   "cell_type": "code",
   "execution_count": 11,
   "id": "0506d69f-aa08-4cd4-a5e8-c8bf198c8dc7",
   "metadata": {},
   "outputs": [
    {
     "data": {
      "text/plain": [
       "{1: 3, 7: 2, 5: 1}"
      ]
     },
     "execution_count": 11,
     "metadata": {},
     "output_type": "execute_result"
    }
   ],
   "source": [
    "compter([1, 7, 1, 1, 5, 7])"
   ]
  },
  {
   "cell_type": "code",
   "execution_count": 13,
   "id": "128c89f6-cf73-4488-9e10-ca6d42cad6c6",
   "metadata": {},
   "outputs": [],
   "source": [
    "def majoritaire(l):\n",
    "    maxi=0\n",
    "    nb=0\n",
    "    d=compter(l)\n",
    "    for cle in d:\n",
    "        if d[cle]>maxi:\n",
    "            maxi=d[cle]\n",
    "            nb=cle\n",
    "    return nb"
   ]
  },
  {
   "cell_type": "code",
   "execution_count": 14,
   "id": "cf814473-d3c2-4781-8af5-533af0ed5d23",
   "metadata": {},
   "outputs": [
    {
     "data": {
      "text/plain": [
       "1"
      ]
     },
     "execution_count": 14,
     "metadata": {},
     "output_type": "execute_result"
    }
   ],
   "source": [
    "majoritaire([1, 7, 1, 1, 5, 7])"
   ]
  },
  {
   "cell_type": "code",
   "execution_count": 19,
   "id": "7f21a999-97c9-4bf3-b103-3f5da2020efa",
   "metadata": {},
   "outputs": [],
   "source": [
    "def syracuse(a,n):\n",
    "    nb=a\n",
    "    if n==0:\n",
    "        return a\n",
    "    else:\n",
    "        for i in range (n-1):\n",
    "            if n%2==0:\n",
    "                nb=nb/2\n",
    "            else:\n",
    "                nb=3*nb+1\n",
    "    return nb"
   ]
  },
  {
   "cell_type": "code",
   "execution_count": 20,
   "id": "e942f36c-036b-4718-acb7-37739f65dcfd",
   "metadata": {},
   "outputs": [],
   "source": [
    "def temps_vol(a):\n",
    "    n=1\n",
    "    t=0\n",
    "    while syracuse(a,n)!=1:\n",
    "       t+=1\n",
    "    return t"
   ]
  },
  {
   "cell_type": "code",
   "execution_count": null,
   "id": "709a7f12-6272-4763-a4af-17cc04acec1d",
   "metadata": {},
   "outputs": [],
   "source": []
  }
 ],
 "metadata": {
  "kernelspec": {
   "display_name": "Python 3 (ipykernel)",
   "language": "python",
   "name": "python3"
  },
  "language_info": {
   "codemirror_mode": {
    "name": "ipython",
    "version": 3
   },
   "file_extension": ".py",
   "mimetype": "text/x-python",
   "name": "python",
   "nbconvert_exporter": "python",
   "pygments_lexer": "ipython3",
   "version": "3.7.10"
  }
 },
 "nbformat": 4,
 "nbformat_minor": 5
}
