{
 "cells": [
  {
   "cell_type": "markdown",
   "metadata": {},
   "source": [
    "# [TP 3 : Modules et packages en Python ![Binder](https://mybinder.org/badge.svg)](https://mybinder.org/v2/gh/fortierq/itc-binder/main?urlpath=git-pull%3Frepo%3Dhttps%253A%252F%252Fgithub.com%252Ffortierq%252Fitc1%26urlpath%3Dlab%252Ftree%252Fitc1%252Ffiles%252F2_tp_semestre1%252F3_module.ipynb%26branch%3Dmaster)\n",
    "\n",
    "Un module est un fichier Python qui contient des définitions de fonctions et variables, réunies autour d'un même thème. Un package réunit plusieurs modules.  \n",
    "Une des forces de Python et son grand nombre de modules disponibles, et notamment dans les domaines scientifiques.  \n",
    "Par exemple, `math` est un module qui existe déjà lorsque vous installez Python et qui permet d'utiliser des fonctions mathématiques. Pour pouvoir l'utiliser, il faut l'importer :"
   ]
  },
  {
   "cell_type": "code",
   "execution_count": 1,
   "metadata": {},
   "outputs": [],
   "source": [
    "import math"
   ]
  },
  {
   "cell_type": "markdown",
   "metadata": {},
   "source": [
    "Ensuite, on peut utiliser les fonctions de `math` en les préfixant par `math` (ce qui sert à distinguer une fonction de `math` avec une fonction de l'utilisateur qui aurait le même nom) :"
   ]
  },
  {
   "cell_type": "code",
   "execution_count": 2,
   "metadata": {},
   "outputs": [
    {
     "data": {
      "text/plain": [
       "2.718281828459045"
      ]
     },
     "execution_count": 2,
     "metadata": {},
     "output_type": "execute_result"
    }
   ],
   "source": [
    "math.exp(1)  # fonction exponentielle"
   ]
  },
  {
   "cell_type": "markdown",
   "metadata": {},
   "source": [
    "## SciPy\n",
    "\n",
    "[SciPy](https://docs.scipy.org/doc/scipy/reference/index.html) est un package Python pour les mathématiques et la science. Il possède plusieurs sous-modules intéressants.  \n",
    "\n",
    "### Intégration"
   ]
  },
  {
   "cell_type": "markdown",
   "metadata": {},
   "source": [
    "`scipy.integrate` permet d'intégrer des fonctions. "
   ]
  },
  {
   "cell_type": "code",
   "execution_count": 3,
   "metadata": {},
   "outputs": [
    {
     "data": {
      "text/plain": [
       "(1.5, 1.6653345369377348e-14)"
      ]
     },
     "execution_count": 3,
     "metadata": {},
     "output_type": "execute_result"
    }
   ],
   "source": [
    "from scipy import integrate\n",
    "\n",
    "def f(x): # la fonction qu'on va intégrer\n",
    "    return x\n",
    "\n",
    "integrate.quad(f, 1, 2)"
   ]
  },
  {
   "cell_type": "markdown",
   "metadata": {},
   "source": [
    "`scipy.integrate.quad(f, a, b)` donne la valeur de $\\int_a^b f(x) dx$, avec une estimation de l'erreur sur le résultat.  \n",
    "Ainsi, sur l'exemple ci-dessus, on apprend que $\\int_1^2 xdx = 1.5 ~(= \\frac{3}{2})$"
   ]
  },
  {
   "cell_type": "markdown",
   "metadata": {
    "tags": [
     "exo"
    ]
   },
   "source": [
    "**Exercice** : Calculer avec SciPy la valeur de $\\int_1^2 \\frac{1}{x}dx$ et retrouver le résultat en utilisant `math.ln`."
   ]
  },
  {
   "cell_type": "code",
   "execution_count": 4,
   "metadata": {},
   "outputs": [
    {
     "data": {
      "text/plain": [
       "(0.6931471805599454, 7.695479593116622e-15)"
      ]
     },
     "execution_count": 4,
     "metadata": {},
     "output_type": "execute_result"
    }
   ],
   "source": [
    "def ff(x):\n",
    "    return 1/x\n",
    "\n",
    "integrate.quad(ff, 1, 2)"
   ]
  },
  {
   "cell_type": "markdown",
   "metadata": {},
   "source": [
    "### Statistiques\n",
    "\n",
    "`scipy.stats` permet d'utiliser des fonctions statistiques. Par exemple, la loi normale :  "
   ]
  },
  {
   "cell_type": "code",
   "execution_count": 5,
   "metadata": {},
   "outputs": [
    {
     "data": {
      "text/plain": [
       "(array(0.), array(1.))"
      ]
     },
     "execution_count": 5,
     "metadata": {},
     "output_type": "execute_result"
    }
   ],
   "source": [
    "from scipy import stats\n",
    "\n",
    "gaussienne = stats.norm()\n",
    "gaussienne.stats()  # renvoie moyenne et variance"
   ]
  },
  {
   "cell_type": "markdown",
   "metadata": {},
   "source": [
    "<center><img src=https://upload.wikimedia.org/wikipedia/commons/thumb/0/01/Gauss_reduite.svg/1280px-Gauss_reduite.svg.png width=400></center>"
   ]
  },
  {
   "cell_type": "markdown",
   "metadata": {
    "tags": [
     "exo"
    ]
   },
   "source": [
    "**Exercice** : Réécrire des fonctions `moyenne` et `variance` pour calculer la moyenne et la variance d'une liste de nombres."
   ]
  },
  {
   "cell_type": "code",
   "execution_count": 6,
   "metadata": {},
   "outputs": [],
   "source": [
    "def moyenne(l):\n",
    "    moy=0\n",
    "    for e in l:\n",
    "        moy+= e/len(l)\n",
    "    return moy"
   ]
  },
  {
   "cell_type": "code",
   "execution_count": 7,
   "metadata": {},
   "outputs": [
    {
     "data": {
      "text/plain": [
       "5.0"
      ]
     },
     "execution_count": 7,
     "metadata": {},
     "output_type": "execute_result"
    }
   ],
   "source": [
    "moyenne([2,4,6,8])"
   ]
  },
  {
   "cell_type": "code",
   "execution_count": 8,
   "metadata": {},
   "outputs": [],
   "source": [
    "def variance(l):\n",
    "    moye=moyenne(l)\n",
    "    vari=0\n",
    "    for e in l:\n",
    "        vari+=(e-moye)**2\n",
    "    return vari"
   ]
  },
  {
   "cell_type": "code",
   "execution_count": 9,
   "metadata": {},
   "outputs": [
    {
     "data": {
      "text/plain": [
       "166.0"
      ]
     },
     "execution_count": 9,
     "metadata": {},
     "output_type": "execute_result"
    }
   ],
   "source": [
    "variance([17,15,23,7,9,13])"
   ]
  },
  {
   "cell_type": "markdown",
   "metadata": {},
   "source": [
    "## SymPy\n",
    "\n",
    "On étudie dans cette partie le module `sympy`, qui permet de faire du calcul formel.  "
   ]
  },
  {
   "cell_type": "markdown",
   "metadata": {
    "tags": [
     "exo"
    ]
   },
   "source": [
    "1. Importer `sympy`.\n",
    "2. Écrire `from sympy.abc import x, y`. Ceci permet ensuite d'utiliser `x` et `y` comme variables indéterminées."
   ]
  },
  {
   "cell_type": "code",
   "execution_count": 10,
   "metadata": {},
   "outputs": [],
   "source": [
    "import sympy"
   ]
  },
  {
   "cell_type": "code",
   "execution_count": 11,
   "metadata": {},
   "outputs": [],
   "source": [
    "from sympy import *"
   ]
  },
  {
   "cell_type": "code",
   "execution_count": 12,
   "metadata": {},
   "outputs": [],
   "source": [
    "from sympy.abc import x,y"
   ]
  },
  {
   "cell_type": "markdown",
   "metadata": {
    "tags": []
   },
   "source": [
    "### Manipulations simples"
   ]
  },
  {
   "cell_type": "markdown",
   "metadata": {},
   "source": [
    "1. `expand` permet de développer une expression. Essayer avec `expand((x+y)**5)`.  \n",
    "2. `expand` permet aussi de développer une expression trigonométrique en utilisant l'option `trig = True`. Essayer avec `expand(cos(2*x), trig = True)` et vérifier la réponse mathématiquement (les fonctions classiques `cos`, `sin`, `tan`, `ln`, `exp`... sont définies dans `sympy`).  \n",
    "3. Retrouver aussi les formules pour $\\cos(x+y)$ et $\\sin(x+y)$.\n",
    "4. `factor` permet de factoriser une expression. Factoriser $x^3 - x^2 + x - 1$ à la main en trouvant une racine évidente, puis vérifier en écrivant `factor(x**3 - x**2 + x - 1)`.\n",
    "5. `simplify` permet de simplifier une expression, par exemple en mettant au même dénominateur. Essayer avec `simplify(5*x/(2*x**3) + 4/(3*x))` et vérifier la réponse."
   ]
  },
  {
   "cell_type": "code",
   "execution_count": 13,
   "metadata": {},
   "outputs": [
    {
     "data": {
      "text/latex": [
       "$\\displaystyle x^{5} + 5 x^{4} y + 10 x^{3} y^{2} + 10 x^{2} y^{3} + 5 x y^{4} + y^{5}$"
      ],
      "text/plain": [
       "x**5 + 5*x**4*y + 10*x**3*y**2 + 10*x**2*y**3 + 5*x*y**4 + y**5"
      ]
     },
     "execution_count": 13,
     "metadata": {},
     "output_type": "execute_result"
    }
   ],
   "source": [
    "#1.\n",
    "expand((x+y)**5)"
   ]
  },
  {
   "cell_type": "code",
   "execution_count": 14,
   "metadata": {},
   "outputs": [
    {
     "data": {
      "text/latex": [
       "$\\displaystyle 2 \\cos^{2}{\\left(x \\right)} - 1$"
      ],
      "text/plain": [
       "2*cos(x)**2 - 1"
      ]
     },
     "execution_count": 14,
     "metadata": {},
     "output_type": "execute_result"
    }
   ],
   "source": [
    "#2.\n",
    "expand(cos(2*x), trig = True)\n",
    "# cos(2x)= cos(x+x)= cos(x)cos(x)-sin(x)sin(x)= cos(x)²-sin(x)²=cos(x)²-1 (cos(x)²+sin(x)²=1)"
   ]
  },
  {
   "cell_type": "code",
   "execution_count": 15,
   "metadata": {},
   "outputs": [
    {
     "data": {
      "text/latex": [
       "$\\displaystyle - \\sin{\\left(x \\right)} \\sin{\\left(y \\right)} + \\cos{\\left(x \\right)} \\cos{\\left(y \\right)}$"
      ],
      "text/plain": [
       "-sin(x)*sin(y) + cos(x)*cos(y)"
      ]
     },
     "execution_count": 15,
     "metadata": {},
     "output_type": "execute_result"
    }
   ],
   "source": [
    "#3.\n",
    "expand(cos(x+y), trig=True)"
   ]
  },
  {
   "cell_type": "code",
   "execution_count": 16,
   "metadata": {},
   "outputs": [
    {
     "data": {
      "text/latex": [
       "$\\displaystyle \\sin{\\left(x \\right)} \\cos{\\left(y \\right)} + \\sin{\\left(y \\right)} \\cos{\\left(x \\right)}$"
      ],
      "text/plain": [
       "sin(x)*cos(y) + sin(y)*cos(x)"
      ]
     },
     "execution_count": 16,
     "metadata": {},
     "output_type": "execute_result"
    }
   ],
   "source": [
    "expand(sin(x+y), trig=True)"
   ]
  },
  {
   "cell_type": "code",
   "execution_count": 17,
   "metadata": {},
   "outputs": [
    {
     "data": {
      "text/latex": [
       "$\\displaystyle \\left(x - 1\\right) \\left(x^{2} + 1\\right)$"
      ],
      "text/plain": [
       "(x - 1)*(x**2 + 1)"
      ]
     },
     "execution_count": 17,
     "metadata": {},
     "output_type": "execute_result"
    }
   ],
   "source": [
    "#4.\n",
    "# on a 1 comme racine évidente donc (x-1)(x²+1)\n",
    "factor(x**3 - x**2 + x - 1)"
   ]
  },
  {
   "cell_type": "code",
   "execution_count": 18,
   "metadata": {},
   "outputs": [
    {
     "data": {
      "text/latex": [
       "$\\displaystyle \\frac{8 x + 15}{6 x^{2}}$"
      ],
      "text/plain": [
       "(8*x + 15)/(6*x**2)"
      ]
     },
     "execution_count": 18,
     "metadata": {},
     "output_type": "execute_result"
    }
   ],
   "source": [
    "#5.\n",
    "simplify(5*x/(2*x**3) + 4/(3*x))\n",
    "# 5*x/(2*x**3) + 4/(3*x)= 15x/6x^3+8x^2/6x^3= (8x+15)/6x²"
   ]
  },
  {
   "cell_type": "markdown",
   "metadata": {},
   "source": [
    "### Limites, dérivées"
   ]
  },
  {
   "cell_type": "markdown",
   "metadata": {
    "tags": [
     "exo"
    ]
   },
   "source": [
    "1. `limit` permet de calculer une limite. Par exemple, `limit(sin(x)/x, x, 0)` calcule $\\lim_{x\\longrightarrow0} \\frac{\\sin(x)}{x}$. Essayer et vérifier le résultat mathématiquement."
   ]
  },
  {
   "cell_type": "code",
   "execution_count": 19,
   "metadata": {},
   "outputs": [
    {
     "data": {
      "text/latex": [
       "$\\displaystyle 1$"
      ],
      "text/plain": [
       "1"
      ]
     },
     "execution_count": 19,
     "metadata": {},
     "output_type": "execute_result"
    }
   ],
   "source": [
    "limit(sin(x)/x, x, 0)"
   ]
  },
  {
   "cell_type": "code",
   "execution_count": 20,
   "metadata": {},
   "outputs": [],
   "source": [
    "# quand sin(x) tend vers 0 on a sa limite qui est 0 et quand x tend vers 0 on a donc sin(x)/x qui tend vers 1"
   ]
  },
  {
   "cell_type": "markdown",
   "metadata": {
    "tags": [
     "exo"
    ]
   },
   "source": [
    "  \n",
    "2. Calculer $\\lim_{x\\longrightarrow0} x^x$ mathématiquement et vérifier avec Python."
   ]
  },
  {
   "cell_type": "code",
   "execution_count": 21,
   "metadata": {},
   "outputs": [
    {
     "data": {
      "text/latex": [
       "$\\displaystyle 1$"
      ],
      "text/plain": [
       "1"
      ]
     },
     "execution_count": 21,
     "metadata": {},
     "output_type": "execute_result"
    }
   ],
   "source": [
    "#x^x tend vers 1 car x^0=1\n",
    "limit(x**x,x,0)"
   ]
  },
  {
   "cell_type": "markdown",
   "metadata": {
    "tags": [
     "exo"
    ]
   },
   "source": [
    "  \n",
    "3. $\\infty$ est représenté par `oo` avec `sympy`. Calculer $\\lim_{x\\longrightarrow\\infty} \\frac{x}{\\ln(x)}$ avec Python."
   ]
  },
  {
   "cell_type": "code",
   "execution_count": 22,
   "metadata": {},
   "outputs": [
    {
     "data": {
      "text/latex": [
       "$\\displaystyle \\infty$"
      ],
      "text/plain": [
       "oo"
      ]
     },
     "execution_count": 22,
     "metadata": {},
     "output_type": "execute_result"
    }
   ],
   "source": [
    "limit(x/log(x),x,oo)"
   ]
  },
  {
   "cell_type": "markdown",
   "metadata": {
    "tags": [
     "exo"
    ]
   },
   "source": [
    "  \n",
    "4. `diff` permet de calculer la dérivée d'une expression. Essayer par exemple `diff(cos(x), x)`."
   ]
  },
  {
   "cell_type": "code",
   "execution_count": 23,
   "metadata": {},
   "outputs": [
    {
     "data": {
      "text/latex": [
       "$\\displaystyle - \\sin{\\left(x \\right)}$"
      ],
      "text/plain": [
       "-sin(x)"
      ]
     },
     "execution_count": 23,
     "metadata": {},
     "output_type": "execute_result"
    }
   ],
   "source": [
    "diff(cos(x),x)"
   ]
  },
  {
   "cell_type": "markdown",
   "metadata": {
    "tags": [
     "exo"
    ]
   },
   "source": [
    "  \n",
    "5. Les fonctions $\\arccos$, $\\arcsin$... existent dans `sympy` sous les noms `acos`, `asin`. Retrouver les dérivées de $\\arccos$ et $\\arcsin$ avec Python."
   ]
  },
  {
   "cell_type": "code",
   "execution_count": 24,
   "metadata": {},
   "outputs": [
    {
     "data": {
      "text/latex": [
       "$\\displaystyle - \\frac{1}{\\sqrt{1 - x^{2}}}$"
      ],
      "text/plain": [
       "-1/sqrt(1 - x**2)"
      ]
     },
     "execution_count": 24,
     "metadata": {},
     "output_type": "execute_result"
    }
   ],
   "source": [
    "diff(acos(x),x)"
   ]
  },
  {
   "cell_type": "code",
   "execution_count": 25,
   "metadata": {},
   "outputs": [
    {
     "data": {
      "text/latex": [
       "$\\displaystyle \\frac{1}{\\sqrt{1 - x^{2}}}$"
      ],
      "text/plain": [
       "1/sqrt(1 - x**2)"
      ]
     },
     "execution_count": 25,
     "metadata": {},
     "output_type": "execute_result"
    }
   ],
   "source": [
    "diff(asin(x),x)"
   ]
  },
  {
   "cell_type": "markdown",
   "metadata": {
    "tags": [
     "exo"
    ]
   },
   "source": [
    "  \n",
    "6. Calculer la dérivée de $x \\longmapsto \\arctan(x) + \\arctan(\\frac{1}{x})$ avec Python (on pourra utiliser `simplify` pour simplifier la dérivée obtenue) et en déduire que $\\forall x > 0$, $\\arctan(x) + \\arctan(\\frac{1}{x}) = \\frac{\\pi}{2}$."
   ]
  },
  {
   "cell_type": "code",
   "execution_count": 26,
   "metadata": {},
   "outputs": [
    {
     "data": {
      "text/latex": [
       "$\\displaystyle \\frac{1}{x^{2} + 1} - \\frac{1}{x^{2} \\left(1 + \\frac{1}{x^{2}}\\right)}$"
      ],
      "text/plain": [
       "1/(x**2 + 1) - 1/(x**2*(1 + x**(-2)))"
      ]
     },
     "execution_count": 26,
     "metadata": {},
     "output_type": "execute_result"
    }
   ],
   "source": [
    "diff(atan(x)+atan(1/x),x)"
   ]
  },
  {
   "cell_type": "code",
   "execution_count": 27,
   "metadata": {},
   "outputs": [
    {
     "data": {
      "text/latex": [
       "$\\displaystyle 0$"
      ],
      "text/plain": [
       "0"
      ]
     },
     "execution_count": 27,
     "metadata": {},
     "output_type": "execute_result"
    }
   ],
   "source": [
    "simplify(diff(atan(x)+atan(1/x),x))"
   ]
  },
  {
   "cell_type": "markdown",
   "metadata": {
    "tags": [
     "exo"
    ]
   },
   "source": [
    "  \n",
    "7. `integrate` permet de trouver une primitive d'une expression. Essayer par exemple `integrate(1/x, x)`."
   ]
  },
  {
   "cell_type": "code",
   "execution_count": 28,
   "metadata": {},
   "outputs": [
    {
     "data": {
      "text/latex": [
       "$\\displaystyle \\log{\\left(x \\right)}$"
      ],
      "text/plain": [
       "log(x)"
      ]
     },
     "execution_count": 28,
     "metadata": {},
     "output_type": "execute_result"
    }
   ],
   "source": [
    "integrate(1/x,x)"
   ]
  },
  {
   "cell_type": "markdown",
   "metadata": {
    "tags": [
     "exo"
    ]
   },
   "source": [
    "  \n",
    "8. Trouver une primitive de $\\ln$, de $\\frac{1}{x\\ln(x)}$, de $x \\exp(x)$."
   ]
  },
  {
   "cell_type": "code",
   "execution_count": 29,
   "metadata": {},
   "outputs": [
    {
     "data": {
      "text/latex": [
       "$\\displaystyle x \\log{\\left(x \\right)} - x$"
      ],
      "text/plain": [
       "x*log(x) - x"
      ]
     },
     "execution_count": 29,
     "metadata": {},
     "output_type": "execute_result"
    }
   ],
   "source": [
    "integrate(log(x),x)"
   ]
  },
  {
   "cell_type": "code",
   "execution_count": 30,
   "metadata": {},
   "outputs": [
    {
     "data": {
      "text/latex": [
       "$\\displaystyle \\log{\\left(\\log{\\left(x \\right)} \\right)}$"
      ],
      "text/plain": [
       "log(log(x))"
      ]
     },
     "execution_count": 30,
     "metadata": {},
     "output_type": "execute_result"
    }
   ],
   "source": [
    "integrate(1/(x*log(x)),x)"
   ]
  },
  {
   "cell_type": "code",
   "execution_count": 31,
   "metadata": {},
   "outputs": [
    {
     "data": {
      "text/latex": [
       "$\\displaystyle \\left(x - 1\\right) e^{x}$"
      ],
      "text/plain": [
       "(x - 1)*exp(x)"
      ]
     },
     "execution_count": 31,
     "metadata": {},
     "output_type": "execute_result"
    }
   ],
   "source": [
    "integrate(x*exp(x))"
   ]
  },
  {
   "cell_type": "markdown",
   "metadata": {
    "tags": [
     "exo"
    ]
   },
   "source": [
    "  \n",
    "9. On peut aussi calculer une intégrale avec `integrate`, en précisant les bornes. Par exemple, $\\int_{-1}^1 x^2 \\sin(x)dx$ se calcule en écrivant `integrate(x**2 * sin(x), (x, -1, 1))`. Essayer puis expliquer comment on aurait pu trouver immédiatement ce résultat."
   ]
  },
  {
   "cell_type": "code",
   "execution_count": 32,
   "metadata": {},
   "outputs": [
    {
     "data": {
      "text/latex": [
       "$\\displaystyle 0$"
      ],
      "text/plain": [
       "0"
      ]
     },
     "execution_count": 32,
     "metadata": {},
     "output_type": "execute_result"
    }
   ],
   "source": [
    "integrate(x**2 * sin(x), (x, -1, 1))"
   ]
  },
  {
   "cell_type": "code",
   "execution_count": 33,
   "metadata": {},
   "outputs": [],
   "source": [
    "# on a comme primitve de 𝑥^2sin(𝑥)=-(x**2)*cos(x)/3 et cos est paire donc cos(1)-cos(-1)=0"
   ]
  },
  {
   "cell_type": "markdown",
   "metadata": {
    "tags": [
     "exo"
    ]
   },
   "source": [
    "10. Calculer $\\int_{-\\infty}^{\\infty} e^{-x^2} dx$ (intégrale de Gauss).  "
   ]
  },
  {
   "cell_type": "code",
   "execution_count": 34,
   "metadata": {},
   "outputs": [
    {
     "data": {
      "text/latex": [
       "$\\displaystyle \\sqrt{\\pi}$"
      ],
      "text/plain": [
       "sqrt(pi)"
      ]
     },
     "execution_count": 34,
     "metadata": {},
     "output_type": "execute_result"
    }
   ],
   "source": [
    "integrate(exp(-x**2),(x,-oo,oo))"
   ]
  },
  {
   "cell_type": "markdown",
   "metadata": {},
   "source": [
    "### Résolution d'équations"
   ]
  },
  {
   "cell_type": "markdown",
   "metadata": {
    "tags": [
     "exo"
    ]
   },
   "source": [
    "1. On peut résoudre une équation du type $f(x) = 0$ en écrivant `solve(f(x), x)`, qui renvoie la liste des solutions. Par exemple, on peut écrire `solve(x**2 - x - 1, x)` pour résoudre $x^2 - x - 1 = 0$. Essayer et retrouver le résultat mathématiquement."
   ]
  },
  {
   "cell_type": "code",
   "execution_count": 35,
   "metadata": {},
   "outputs": [
    {
     "data": {
      "text/plain": [
       "[1/2 - sqrt(5)/2, 1/2 + sqrt(5)/2]"
      ]
     },
     "execution_count": 35,
     "metadata": {},
     "output_type": "execute_result"
    }
   ],
   "source": [
    "solve(x**2 - x - 1, x)"
   ]
  },
  {
   "cell_type": "code",
   "execution_count": 36,
   "metadata": {},
   "outputs": [],
   "source": [
    "# discriminant=5, supérieur a 0 donc deux solutions s1=(1-sqrt(5))/2 et s2=(1+sqrt(5))/2"
   ]
  },
  {
   "cell_type": "markdown",
   "metadata": {
    "tags": [
     "exo"
    ]
   },
   "source": [
    "  \n",
    "2. On peut aussi résoudre des systèmes d'équations linéaires à plusieurs inconnues. Par exemple, \\\\`solve([x + 5*y - 2, -3*x + 6*y - 15], [x, y])` permet de résoudre le système:\n",
    "$$x + 5y - 2 = 0$$\n",
    "$$-3x + 6y - 15 = 0$$\n",
    "Vérifier à la main la solution renvoyée par Python."
   ]
  },
  {
   "cell_type": "code",
   "execution_count": 37,
   "metadata": {},
   "outputs": [
    {
     "data": {
      "text/plain": [
       "{x: -3, y: 1}"
      ]
     },
     "execution_count": 37,
     "metadata": {},
     "output_type": "execute_result"
    }
   ],
   "source": [
    "solve([x + 5*y - 2, -3*x + 6*y - 15], [x, y])"
   ]
  },
  {
   "cell_type": "code",
   "execution_count": 38,
   "metadata": {},
   "outputs": [],
   "source": [
    "# x= 2-5y; −3x+6y−15=0\n",
    "# x= 2-5y; -6+15y+6y-15=0\n",
    "# x= 2-5y; 21y=21\n",
    "# x= -3; y= 1"
   ]
  },
  {
   "cell_type": "markdown",
   "metadata": {},
   "source": [
    "### Séries\n",
    "\n",
    "`series` permet de trouver le developpement limité d'une fonction. Par exemple, `series(cos(x), x, 0, 8)` donne le développement limité en 0 de $\\cos$, à l'ordre 8. "
   ]
  },
  {
   "cell_type": "markdown",
   "metadata": {
    "tags": [
     "exo"
    ]
   },
   "source": [
    "1. Retrouver les développements limités en 0 usuels: $\\ln(1+x)$, $\\sqrt{1+x}$, $\\tan(x)$..."
   ]
  },
  {
   "cell_type": "code",
   "execution_count": 47,
   "metadata": {},
   "outputs": [
    {
     "data": {
      "text/latex": [
       "$\\displaystyle x + O\\left(x^{2}\\right)$"
      ],
      "text/plain": [
       "x + O(x**2)"
      ]
     },
     "execution_count": 47,
     "metadata": {},
     "output_type": "execute_result"
    }
   ],
   "source": [
    "series(log(1+x), x, 0, 2)"
   ]
  },
  {
   "cell_type": "code",
   "execution_count": 48,
   "metadata": {},
   "outputs": [
    {
     "data": {
      "text/latex": [
       "$\\displaystyle 1 + \\frac{x}{2} + O\\left(x^{2}\\right)$"
      ],
      "text/plain": [
       "1 + x/2 + O(x**2)"
      ]
     },
     "execution_count": 48,
     "metadata": {},
     "output_type": "execute_result"
    }
   ],
   "source": [
    "series(sqrt(1+x),x,0,2)"
   ]
  },
  {
   "cell_type": "code",
   "execution_count": 50,
   "metadata": {},
   "outputs": [
    {
     "data": {
      "text/latex": [
       "$\\displaystyle x + O\\left(x^{2}\\right)$"
      ],
      "text/plain": [
       "x + O(x**2)"
      ]
     },
     "execution_count": 50,
     "metadata": {},
     "output_type": "execute_result"
    }
   ],
   "source": [
    "series(tan(x),x,0,2)"
   ]
  },
  {
   "cell_type": "markdown",
   "metadata": {
    "tags": [
     "exo"
    ]
   },
   "source": [
    "2. `apart` permet de développer une fraction en éléments simples. Essayer `apart(1/(x*(x+1)))` et vérifier le résultat."
   ]
  },
  {
   "cell_type": "code",
   "execution_count": 51,
   "metadata": {},
   "outputs": [
    {
     "data": {
      "text/latex": [
       "$\\displaystyle - \\frac{1}{x + 1} + \\frac{1}{x}$"
      ],
      "text/plain": [
       "-1/(x + 1) + 1/x"
      ]
     },
     "execution_count": 51,
     "metadata": {},
     "output_type": "execute_result"
    }
   ],
   "source": [
    "apart(1/(x*(x+1)))"
   ]
  },
  {
   "cell_type": "code",
   "execution_count": 52,
   "metadata": {},
   "outputs": [],
   "source": [
    "# -1/(x+1)+1/x = -x/(x(x+1))+(x+1)/(x(x+1))= 1/(x*(x+1))"
   ]
  },
  {
   "cell_type": "code",
   "execution_count": null,
   "metadata": {},
   "outputs": [],
   "source": []
  }
 ],
 "metadata": {
  "interpreter": {
   "hash": "31f2aee4e71d21fbe5cf8b01ff0e069b9275f58929596ceb00d14d90e3e16cd6"
  },
  "kernelspec": {
   "display_name": "Python 3 (ipykernel)",
   "language": "python",
   "name": "python3"
  },
  "language_info": {
   "codemirror_mode": {
    "name": "ipython",
    "version": 3
   },
   "file_extension": ".py",
   "mimetype": "text/x-python",
   "name": "python",
   "nbconvert_exporter": "python",
   "pygments_lexer": "ipython3",
   "version": "3.7.10"
  }
 },
 "nbformat": 4,
 "nbformat_minor": 4
}
